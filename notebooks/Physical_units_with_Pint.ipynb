{
 "cells": [
  {
   "cell_type": "raw",
   "metadata": {},
   "source": [
    "---\n",
    "authors:\n",
    "  - name: Matt Hall\n",
    "    orcid: 0000-0002-4054-8295\n",
    "    email: kwinkunks@gmail.com\n",
    "    github: kwinkunks\n",
    "license:\n",
    "  text: CC BY-SA\n",
    "  code: MIT\n",
    "tags:\n",
    "  - python\n",
    "  - science\n",
    "  - units\n",
    "---"
   ]
  },
  {
   "cell_type": "markdown",
   "metadata": {},
   "source": [
    "# Physical units with `pint`\n",
    "\n",
    "This notebook goes with [a blog post on the same subject](https://agilescientific.com/blog/2019/8/19/x-lines-of-python-physical-units).\n",
    "\n",
    "Have you ever wished you could carry units around with your quantities &mdash; and have the computer figure out the best units and multipliers to use?\n",
    "\n",
    "[`pint`](https://pint.readthedocs.io/en/0.9/tutorial.html) is a nince, compact library for doing just this, handling all your [dimensional analysis](https://en.wikipedia.org/wiki/Dimensional_analysis) needs. It can also detect units from strings. We can define our own units, it knows about multipliers (kilo, mega, etc), and it even works with `numpy` and `pandas`."
   ]
  },
  {
   "cell_type": "markdown",
   "metadata": {},
   "source": [
    "To use it in its typical mode, we import the library then instantiate a `UnitRegistry` object. The registry contains lots of physical units. "
   ]
  },
  {
   "cell_type": "code",
   "execution_count": 1,
   "metadata": {},
   "outputs": [],
   "source": [
    "import pint\n",
    "\n",
    "ureg = pint.UnitRegistry()"
   ]
  },
  {
   "cell_type": "code",
   "execution_count": 2,
   "metadata": {},
   "outputs": [
    {
     "data": {
      "text/plain": [
       "'0.24.4'"
      ]
     },
     "execution_count": 2,
     "metadata": {},
     "output_type": "execute_result"
    }
   ],
   "source": [
    "pint.__version__"
   ]
  },
  {
   "cell_type": "markdown",
   "metadata": {},
   "source": [
    "## Attaching and printing units"
   ]
  },
  {
   "cell_type": "code",
   "execution_count": 3,
   "metadata": {},
   "outputs": [
    {
     "data": {
      "text/html": [
       "68 meter"
      ],
      "text/latex": [
       "$68\\ \\mathrm{meter}$"
      ],
      "text/plain": [
       "<Quantity(68, 'meter')>"
      ]
     },
     "execution_count": 3,
     "metadata": {},
     "output_type": "execute_result"
    }
   ],
   "source": [
    "thickness = 68 * ureg.m\n",
    "thickness"
   ]
  },
  {
   "cell_type": "markdown",
   "metadata": {},
   "source": [
    "In a Jupyter Notebook you see a 'pretty' version of the quantity. In the interpreter, you'll see something slightly different (the so-called `repr` of the class):\n",
    "\n",
    "    >>> thickness\n",
    "    <Quantity(68, 'meter')>\n",
    "\n",
    "We can get at the magnitude, the units, and the dimensionality of this quantity:"
   ]
  },
  {
   "cell_type": "code",
   "execution_count": 4,
   "metadata": {},
   "outputs": [
    {
     "data": {
      "text/plain": [
       "(68, <Unit('meter')>, <UnitsContainer({'[length]': 1})>)"
      ]
     },
     "execution_count": 4,
     "metadata": {},
     "output_type": "execute_result"
    }
   ],
   "source": [
    "thickness.magnitude, thickness.units, thickness.dimensionality"
   ]
  },
  {
   "cell_type": "markdown",
   "metadata": {},
   "source": [
    "You can also use the following abbreviations for magnitude and units:\n",
    "\n",
    "    thickness.m, thickness.u\n",
    "    \n",
    "For printing, we can use Python's string formatting:"
   ]
  },
  {
   "cell_type": "code",
   "execution_count": 5,
   "metadata": {},
   "outputs": [
    {
     "data": {
      "text/plain": [
       "'4624 meter ** 2'"
      ]
     },
     "execution_count": 5,
     "metadata": {},
     "output_type": "execute_result"
    }
   ],
   "source": [
    "f'{thickness**2}'"
   ]
  },
  {
   "cell_type": "markdown",
   "metadata": {},
   "source": [
    "But `pint` extends the string formatting options to include special options for `Quantity` objects. The most useful option is `P` for 'pretty', but there's also `L` for $\\LaTeX$ and `H` for HTML. Adding a `~` (tilde) before the option tells `pint` to use unit abbreviations instead of the full names:"
   ]
  },
  {
   "cell_type": "code",
   "execution_count": 6,
   "metadata": {},
   "outputs": [
    {
     "name": "stdout",
     "output_type": "stream",
     "text": [
      "4624 meter²\n",
      "4624 m²\n",
      "4624\\ \\mathrm{m}^{2}\n",
      "4624 m<sup>2</sup>\n"
     ]
    }
   ],
   "source": [
    "print(f'{thickness**2:P}')\n",
    "print(f'{thickness**2:~P}')\n",
    "print(f'{thickness**2:~L}')\n",
    "print(f'{thickness**2:~H}')"
   ]
  },
  {
   "cell_type": "markdown",
   "metadata": {},
   "source": [
    "## Doing maths\n",
    "\n",
    "If we multiply by a scalar, `pint` produces the result you'd expect:"
   ]
  },
  {
   "cell_type": "code",
   "execution_count": 7,
   "metadata": {},
   "outputs": [
    {
     "data": {
      "text/html": [
       "136 meter"
      ],
      "text/latex": [
       "$136\\ \\mathrm{meter}$"
      ],
      "text/plain": [
       "<Quantity(136, 'meter')>"
      ]
     },
     "execution_count": 7,
     "metadata": {},
     "output_type": "execute_result"
    }
   ],
   "source": [
    "thickness * 2"
   ]
  },
  {
   "cell_type": "markdown",
   "metadata": {},
   "source": [
    "Note that you must use units when you need them:"
   ]
  },
  {
   "cell_type": "code",
   "execution_count": 8,
   "metadata": {},
   "outputs": [
    {
     "ename": "DimensionalityError",
     "evalue": "Cannot convert from 'meter' to 'dimensionless'",
     "output_type": "error",
     "traceback": [
      "\u001b[31m---------------------------------------------------------------------------\u001b[39m",
      "\u001b[31mDimensionalityError\u001b[39m                       Traceback (most recent call last)",
      "\u001b[36mCell\u001b[39m\u001b[36m \u001b[39m\u001b[32mIn[8]\u001b[39m\u001b[32m, line 1\u001b[39m\n\u001b[32m----> \u001b[39m\u001b[32m1\u001b[39m \u001b[43mthickness\u001b[49m\u001b[43m \u001b[49m\u001b[43m+\u001b[49m\u001b[43m \u001b[49m\u001b[32;43m10\u001b[39;49m\n\u001b[32m      3\u001b[39m \u001b[38;5;66;03m# This is meant to produce an error...\u001b[39;00m\n",
      "\u001b[36mFile \u001b[39m\u001b[32m~/dev/notebooks/.venv/lib/python3.13/site-packages/pint/facets/plain/quantity.py:849\u001b[39m, in \u001b[36mPlainQuantity.__add__\u001b[39m\u001b[34m(self, other)\u001b[39m\n\u001b[32m    846\u001b[39m \u001b[38;5;28;01mif\u001b[39;00m \u001b[38;5;28misinstance\u001b[39m(other, datetime.datetime):\n\u001b[32m    847\u001b[39m     \u001b[38;5;28;01mreturn\u001b[39;00m \u001b[38;5;28mself\u001b[39m.to_timedelta() + other\n\u001b[32m--> \u001b[39m\u001b[32m849\u001b[39m \u001b[38;5;28;01mreturn\u001b[39;00m \u001b[38;5;28;43mself\u001b[39;49m\u001b[43m.\u001b[49m\u001b[43m_add_sub\u001b[49m\u001b[43m(\u001b[49m\u001b[43mother\u001b[49m\u001b[43m,\u001b[49m\u001b[43m \u001b[49m\u001b[43moperator\u001b[49m\u001b[43m.\u001b[49m\u001b[43madd\u001b[49m\u001b[43m)\u001b[49m\n",
      "\u001b[36mFile \u001b[39m\u001b[32m~/dev/notebooks/.venv/lib/python3.13/site-packages/pint/facets/plain/quantity.py:101\u001b[39m, in \u001b[36mcheck_implemented.<locals>.wrapped\u001b[39m\u001b[34m(self, *args, **kwargs)\u001b[39m\n\u001b[32m     99\u001b[39m \u001b[38;5;28;01melif\u001b[39;00m \u001b[38;5;28misinstance\u001b[39m(other, \u001b[38;5;28mlist\u001b[39m) \u001b[38;5;129;01mand\u001b[39;00m other \u001b[38;5;129;01mand\u001b[39;00m \u001b[38;5;28misinstance\u001b[39m(other[\u001b[32m0\u001b[39m], \u001b[38;5;28mtype\u001b[39m(\u001b[38;5;28mself\u001b[39m)):\n\u001b[32m    100\u001b[39m     \u001b[38;5;28;01mreturn\u001b[39;00m \u001b[38;5;28mNotImplemented\u001b[39m\n\u001b[32m--> \u001b[39m\u001b[32m101\u001b[39m \u001b[38;5;28;01mreturn\u001b[39;00m \u001b[43mf\u001b[49m\u001b[43m(\u001b[49m\u001b[38;5;28;43mself\u001b[39;49m\u001b[43m,\u001b[49m\u001b[43m \u001b[49m\u001b[43m*\u001b[49m\u001b[43margs\u001b[49m\u001b[43m,\u001b[49m\u001b[43m \u001b[49m\u001b[43m*\u001b[49m\u001b[43m*\u001b[49m\u001b[43mkwargs\u001b[49m\u001b[43m)\u001b[49m\n",
      "\u001b[36mFile \u001b[39m\u001b[32m~/dev/notebooks/.venv/lib/python3.13/site-packages/pint/facets/plain/quantity.py:747\u001b[39m, in \u001b[36mPlainQuantity._add_sub\u001b[39m\u001b[34m(self, other, op)\u001b[39m\n\u001b[32m    742\u001b[39m         magnitude = op(\n\u001b[32m    743\u001b[39m             \u001b[38;5;28mself\u001b[39m.to(units)._magnitude,\n\u001b[32m    744\u001b[39m             _to_magnitude(other, \u001b[38;5;28mself\u001b[39m.force_ndarray, \u001b[38;5;28mself\u001b[39m.force_ndarray_like),\n\u001b[32m    745\u001b[39m         )\n\u001b[32m    746\u001b[39m     \u001b[38;5;28;01melse\u001b[39;00m:\n\u001b[32m--> \u001b[39m\u001b[32m747\u001b[39m         \u001b[38;5;28;01mraise\u001b[39;00m DimensionalityError(\u001b[38;5;28mself\u001b[39m._units, \u001b[33m\"\u001b[39m\u001b[33mdimensionless\u001b[39m\u001b[33m\"\u001b[39m)\n\u001b[32m    748\u001b[39m     \u001b[38;5;28;01mreturn\u001b[39;00m \u001b[38;5;28mself\u001b[39m.\u001b[34m__class__\u001b[39m(magnitude, units)\n\u001b[32m    750\u001b[39m \u001b[38;5;28;01mif\u001b[39;00m \u001b[38;5;129;01mnot\u001b[39;00m \u001b[38;5;28mself\u001b[39m.dimensionality == other.dimensionality:\n",
      "\u001b[31mDimensionalityError\u001b[39m: Cannot convert from 'meter' to 'dimensionless'"
     ]
    }
   ],
   "source": [
    "thickness + 10\n",
    "\n",
    "# This is meant to produce an error..."
   ]
  },
  {
   "cell_type": "markdown",
   "metadata": {},
   "source": [
    "Let's try defining an area of $60\\ \\mathrm{km}^2$, then multiplying it by our thickness. To make it more like a hydrocarbon volume, I'll also multiply by net:gross `n2g`, porosity `phi`, and saturation `sat`, all of which are dimensionless:"
   ]
  },
  {
   "cell_type": "code",
   "execution_count": 10,
   "metadata": {},
   "outputs": [
    {
     "data": {
      "text/html": [
       "285.59999999999997 kilometer<sup>2</sup> meter"
      ],
      "text/latex": [
       "$285.59999999999997\\ \\mathrm{kilometer}^{2} \\cdot \\mathrm{meter}$"
      ],
      "text/plain": [
       "<Quantity(285.6, 'kilometer ** 2 * meter')>"
      ]
     },
     "execution_count": 10,
     "metadata": {},
     "output_type": "execute_result"
    }
   ],
   "source": [
    "area = 60 * ureg.km**2\n",
    "n2g = 0.5 * ureg.dimensionless  # Optional dimensionless 'units'...\n",
    "phi = 0.2                        # ... but you can just do this.\n",
    "sat = 0.7  \n",
    "\n",
    "volume = area * thickness * n2g * phi * sat\n",
    "volume"
   ]
  },
  {
   "cell_type": "markdown",
   "metadata": {},
   "source": [
    "We can convert to something more compact:"
   ]
  },
  {
   "cell_type": "code",
   "execution_count": 11,
   "metadata": {},
   "outputs": [
    {
     "data": {
      "text/html": [
       "285599999.99999994 meter<sup>3</sup>"
      ],
      "text/latex": [
       "$285599999.99999994\\ \\mathrm{meter}^{3}$"
      ],
      "text/plain": [
       "<Quantity(2.856e+08, 'meter ** 3')>"
      ]
     },
     "execution_count": 11,
     "metadata": {},
     "output_type": "execute_result"
    }
   ],
   "source": [
    "volume.to_compact()"
   ]
  },
  {
   "cell_type": "markdown",
   "metadata": {},
   "source": [
    "Or be completely explicit about the units and multipliers we want:"
   ]
  },
  {
   "cell_type": "code",
   "execution_count": 12,
   "metadata": {},
   "outputs": [
    {
     "data": {
      "text/html": [
       "285599999.99999994 meter<sup>3</sup>"
      ],
      "text/latex": [
       "$285599999.99999994\\ \\mathrm{meter}^{3}$"
      ],
      "text/plain": [
       "<Quantity(2.856e+08, 'meter ** 3')>"
      ]
     },
     "execution_count": 12,
     "metadata": {},
     "output_type": "execute_result"
    }
   ],
   "source": [
    "volume.to('m**3')  # Or use m^3"
   ]
  },
  {
   "cell_type": "markdown",
   "metadata": {},
   "source": [
    "The `to_compact()` method can also take units, if you want to be more explicit; it applies multipliers automatically:"
   ]
  },
  {
   "cell_type": "code",
   "execution_count": 13,
   "metadata": {},
   "outputs": [
    {
     "data": {
      "text/html": [
       "285.5999999999999 gigaliter"
      ],
      "text/latex": [
       "$285.5999999999999\\ \\mathrm{gigaliter}$"
      ],
      "text/plain": [
       "<Quantity(285.6, 'gigaliter')>"
      ]
     },
     "execution_count": 13,
     "metadata": {},
     "output_type": "execute_result"
    }
   ],
   "source": [
    "volume.to_compact('L')"
   ]
  },
  {
   "cell_type": "markdown",
   "metadata": {},
   "source": [
    "Oil barrels are already defined (**careful**, they are abbreviated as `oil_bbl` not `bbl` &mdash; that's a 31.5 gallon barrel, about the same as a beer barrel). "
   ]
  },
  {
   "cell_type": "code",
   "execution_count": 14,
   "metadata": {},
   "outputs": [
    {
     "data": {
      "text/html": [
       "1.7963699560354096 gigaoil_barrel"
      ],
      "text/latex": [
       "$1.7963699560354096\\ \\mathrm{gigaoil\\_barrel}$"
      ],
      "text/plain": [
       "<Quantity(1.79636996, 'gigaoil_barrel')>"
      ]
     },
     "execution_count": 14,
     "metadata": {},
     "output_type": "execute_result"
    }
   ],
   "source": [
    "volume.to_compact('oil_barrel')"
   ]
  },
  {
   "cell_type": "markdown",
   "metadata": {},
   "source": [
    "If we use string formatting (see above), we can get pretty specific:"
   ]
  },
  {
   "cell_type": "code",
   "execution_count": 16,
   "metadata": {},
   "outputs": [
    {
     "name": "stdout",
     "output_type": "stream",
     "text": [
      "The volume is 1.80\\ \\mathrm{Goil\\_bbl}\n"
     ]
    }
   ],
   "source": [
    "print(f\"The volume is {volume.to_compact('oil_barrel'):~0.2fL}\")"
   ]
  },
  {
   "cell_type": "markdown",
   "metadata": {},
   "source": [
    "## Defining new units\n",
    "\n",
    "`pint` defines hundreads of units ([here's the list](https://github.com/hgrecco/pint/blob/master/pint/default_en.txt)), and it knows about tonnes of oil equivalent... but it doesn't know about barrels of oil equivalent ([for more on conversion to BOE](https://en.wikipedia.org/wiki/Barrel_of_oil_equivalent)). So let's define a custom unit, using the USGS's conversion factor:"
   ]
  },
  {
   "cell_type": "code",
   "execution_count": 18,
   "metadata": {},
   "outputs": [],
   "source": [
    "ureg.define('barrel_of_oil_equivalent = 6000 ft**3 = boe')"
   ]
  },
  {
   "cell_type": "markdown",
   "metadata": {},
   "source": [
    "Let's suspend reality for a moment and imagine we now want to compute our gross rock volume in BOEs..."
   ]
  },
  {
   "cell_type": "code",
   "execution_count": 19,
   "metadata": {},
   "outputs": [
    {
     "data": {
      "text/html": [
       "1680978.135942857 barrel_of_oil_equivalent"
      ],
      "text/latex": [
       "$1680978.135942857\\ \\mathrm{barrel\\_of\\_oil\\_equivalent}$"
      ],
      "text/plain": [
       "<Quantity(1680978.14, 'barrel_of_oil_equivalent')>"
      ]
     },
     "execution_count": 19,
     "metadata": {},
     "output_type": "execute_result"
    }
   ],
   "source": [
    "volume.to('boe')"
   ]
  },
  {
   "cell_type": "code",
   "execution_count": 20,
   "metadata": {},
   "outputs": [
    {
     "data": {
      "text/html": [
       "1.680978135942857 megabarrel_of_oil_equivalent"
      ],
      "text/latex": [
       "$1.680978135942857\\ \\mathrm{megabarrel\\_of\\_oil\\_equivalent}$"
      ],
      "text/plain": [
       "<Quantity(1.68097814, 'megabarrel_of_oil_equivalent')>"
      ]
     },
     "execution_count": 20,
     "metadata": {},
     "output_type": "execute_result"
    }
   ],
   "source": [
    "volume.to_compact('boe')"
   ]
  },
  {
   "cell_type": "markdown",
   "metadata": {},
   "source": [
    "## Getting units from strings\n",
    "\n",
    "`pint` can also parse strings and attempt to convert them to `Quantity` instances:"
   ]
  },
  {
   "cell_type": "code",
   "execution_count": 22,
   "metadata": {},
   "outputs": [
    {
     "data": {
      "text/html": [
       "2.34 kilometer"
      ],
      "text/latex": [
       "$2.34\\ \\mathrm{kilometer}$"
      ],
      "text/plain": [
       "<Quantity(2.34, 'kilometer')>"
      ]
     },
     "execution_count": 22,
     "metadata": {},
     "output_type": "execute_result"
    }
   ],
   "source": [
    "ureg('2.34 km')"
   ]
  },
  {
   "cell_type": "markdown",
   "metadata": {},
   "source": [
    "This looks useful! Let's try something less nicely formatted."
   ]
  },
  {
   "cell_type": "code",
   "execution_count": 23,
   "metadata": {},
   "outputs": [
    {
     "data": {
      "text/html": [
       "2340.0 kilometer"
      ],
      "text/latex": [
       "$2340.0\\ \\mathrm{kilometer}$"
      ],
      "text/plain": [
       "<Quantity(2340.0, 'kilometer')>"
      ]
     },
     "execution_count": 23,
     "metadata": {},
     "output_type": "execute_result"
    }
   ],
   "source": [
    "ureg('2.34*10^3 km')"
   ]
  },
  {
   "cell_type": "code",
   "execution_count": 24,
   "metadata": {},
   "outputs": [
    {
     "data": {
      "text/html": [
       "-12000.0 foot"
      ],
      "text/latex": [
       "$-12000.0\\ \\mathrm{foot}$"
      ],
      "text/plain": [
       "<Quantity(-12000.0, 'foot')>"
      ]
     },
     "execution_count": 24,
     "metadata": {},
     "output_type": "execute_result"
    }
   ],
   "source": [
    "ureg('-12,000.ft')"
   ]
  },
  {
   "cell_type": "markdown",
   "metadata": {},
   "source": [
    "Careful though..."
   ]
  },
  {
   "cell_type": "code",
   "execution_count": 30,
   "metadata": {},
   "outputs": [
    {
     "data": {
      "text/html": [
       "32 meter"
      ],
      "text/latex": [
       "$32\\ \\mathrm{meter}$"
      ],
      "text/plain": [
       "<Quantity(32, 'meter')>"
      ]
     },
     "execution_count": 30,
     "metadata": {},
     "output_type": "execute_result"
    }
   ],
   "source": [
    "ureg('3,2 metres')"
   ]
  },
  {
   "cell_type": "markdown",
   "metadata": {},
   "source": [
    "You can also use the `Quantity` constructor, like this:\n",
    "\n",
    "    >>> qty = pint.Quantity\n",
    "    >>> qty('2.34 km')\n",
    "    2.34 kilometer\n",
    "    \n",
    "But the `UnitRegistry` seems to do the same things and might be more convenient."
   ]
  },
  {
   "cell_type": "markdown",
   "metadata": {},
   "source": [
    "## `pint` with `uncertainties`\n",
    "\n",
    "Conveniently, `pint` works well with [`uncertainties`](https://pythonhosted.org/uncertainties/). Maybe I'll do an _X lines_ on that package in the future. Install it with `conda` or `pip`, e.g.\n",
    "\n",
    "    pip install uncertainties"
   ]
  },
  {
   "cell_type": "code",
   "execution_count": 32,
   "metadata": {},
   "outputs": [
    {
     "data": {
      "text/html": [
       "27.4+/-2.1 gigaoil_barrel"
      ],
      "text/latex": [
       "$27.4+/-2.1\\ \\mathrm{gigaoil\\_barrel}$"
      ],
      "text/plain": [
       "<Quantity(27.4+/-2.1, 'gigaoil_barrel')>"
      ]
     },
     "execution_count": 32,
     "metadata": {},
     "output_type": "execute_result"
    }
   ],
   "source": [
    "from uncertainties import ufloat\n",
    "\n",
    "area = ufloat(64, 5) * ureg.km**2  # 64 +/- 5 km**2\n",
    "(thickness * area).to('Goil_bbl')"
   ]
  },
  {
   "cell_type": "markdown",
   "metadata": {},
   "source": [
    "## `pint` with `numpy`\n",
    "\n",
    "`pint` works fine with NumPy arrays:"
   ]
  },
  {
   "cell_type": "code",
   "execution_count": 34,
   "metadata": {},
   "outputs": [
    {
     "data": {
      "text/html": [
       "<table><tbody><tr><th>Magnitude</th><td style='text-align:left;'><pre>[5520000.0 6120000.0 6375000.0 8480000.0]</pre></td></tr><tr><th>Units</th><td style='text-align:left;'>kilogram/(meter<sup>2</sup> second)</td></tr></tbody></table>"
      ],
      "text/latex": [
       "$\\begin{pmatrix} &  &  & \\end{pmatrix}\\ \\frac{\\mathrm{kilogram}}{\\left(\\mathrm{meter}^{2} \\cdot \\mathrm{second}\\right)}$"
      ],
      "text/plain": [
       "<Quantity([5520000. 6120000. 6375000. 8480000.], 'kilogram / meter ** 2 / second')>"
      ]
     },
     "execution_count": 34,
     "metadata": {},
     "output_type": "execute_result"
    }
   ],
   "source": [
    "import numpy as np\n",
    "\n",
    "vp = np.array([2300, 2400, 2550, 3200]) * ureg.m/ureg.s\n",
    "rho = np.array([2400, 2550, 2500, 2650]) * ureg.kg/ureg.m**3\n",
    "\n",
    "z = vp * rho\n",
    "z"
   ]
  },
  {
   "cell_type": "markdown",
   "metadata": {},
   "source": [
    "You can also print these objects."
   ]
  },
  {
   "cell_type": "code",
   "execution_count": 35,
   "metadata": {},
   "outputs": [
    {
     "name": "stdout",
     "output_type": "stream",
     "text": [
      "[5520000.0 6120000.0 6375000.0 8480000.0] kilogram / meter ** 2 / second\n"
     ]
    }
   ],
   "source": [
    "print(z)"
   ]
  },
  {
   "cell_type": "markdown",
   "metadata": {},
   "source": [
    "As expected, the magnitude of this quantity is just a NumPy array:"
   ]
  },
  {
   "cell_type": "code",
   "execution_count": 37,
   "metadata": {},
   "outputs": [
    {
     "data": {
      "text/plain": [
       "numpy.ndarray"
      ]
     },
     "execution_count": 37,
     "metadata": {},
     "output_type": "execute_result"
    }
   ],
   "source": [
    "type(z.m)"
   ]
  },
  {
   "cell_type": "markdown",
   "metadata": {},
   "source": [
    "## `pint` with `pandas`"
   ]
  },
  {
   "cell_type": "markdown",
   "metadata": {},
   "source": [
    "To use this integration, we pass special `pint` data types to the `pd.Series()` object:"
   ]
  },
  {
   "cell_type": "code",
   "execution_count": 41,
   "metadata": {},
   "outputs": [
    {
     "data": {
      "text/html": [
       "<div>\n",
       "<style scoped>\n",
       "    .dataframe tbody tr th:only-of-type {\n",
       "        vertical-align: middle;\n",
       "    }\n",
       "\n",
       "    .dataframe tbody tr th {\n",
       "        vertical-align: top;\n",
       "    }\n",
       "\n",
       "    .dataframe thead th {\n",
       "        text-align: right;\n",
       "    }\n",
       "</style>\n",
       "<table border=\"1\" class=\"dataframe\">\n",
       "  <thead>\n",
       "    <tr style=\"text-align: right;\">\n",
       "      <th></th>\n",
       "      <th>Vp</th>\n",
       "      <th>Vs</th>\n",
       "      <th>rho</th>\n",
       "    </tr>\n",
       "  </thead>\n",
       "  <tbody>\n",
       "    <tr>\n",
       "      <th>0</th>\n",
       "      <td>2300.0</td>\n",
       "      <td>1200.0</td>\n",
       "      <td>2400.0</td>\n",
       "    </tr>\n",
       "    <tr>\n",
       "      <th>1</th>\n",
       "      <td>2400.0</td>\n",
       "      <td>1200.0</td>\n",
       "      <td>2550.0</td>\n",
       "    </tr>\n",
       "    <tr>\n",
       "      <th>2</th>\n",
       "      <td>2550.0</td>\n",
       "      <td>1250.0</td>\n",
       "      <td>2500.0</td>\n",
       "    </tr>\n",
       "    <tr>\n",
       "      <th>3</th>\n",
       "      <td>3200.0</td>\n",
       "      <td>1300.0</td>\n",
       "      <td>2650.0</td>\n",
       "    </tr>\n",
       "  </tbody>\n",
       "</table>\n",
       "</div>"
      ],
      "text/plain": [
       "       Vp      Vs     rho\n",
       "0  2300.0  1200.0  2400.0\n",
       "1  2400.0  1200.0  2550.0\n",
       "2  2550.0  1250.0  2500.0\n",
       "3  3200.0  1300.0  2650.0"
      ]
     },
     "execution_count": 41,
     "metadata": {},
     "output_type": "execute_result"
    }
   ],
   "source": [
    "import pandas as pd\n",
    "import pint_pandas\n",
    "\n",
    "df = pd.DataFrame({\n",
    "    \"Vp\": pd.Series(vp.m, dtype=\"pint[m/s]\"),\n",
    "    \"Vs\": pd.Series([1200, 1200, 1250, 1300], dtype=\"pint[m/s]\"),\n",
    "    \"rho\": pd.Series(rho.m, dtype=\"pint[kg/m**3]\"),\n",
    "})\n",
    "\n",
    "df"
   ]
  },
  {
   "cell_type": "markdown",
   "metadata": {},
   "source": [
    "Let's add Young's modulus:"
   ]
  },
  {
   "cell_type": "code",
   "execution_count": 44,
   "metadata": {},
   "outputs": [
    {
     "data": {
      "text/plain": [
       "0     9075366233.766233\n",
       "1          9792000000.0\n",
       "2     10483220521.25506\n",
       "3    12550276023.391813\n",
       "Name: E, dtype: pint[kilogram / meter / second ** 2][Float64]"
      ]
     },
     "execution_count": 44,
     "metadata": {},
     "output_type": "execute_result"
    }
   ],
   "source": [
    "import bruges as bg\n",
    "\n",
    "df['E'] = bg.rockphysics.moduli.youngs(df.Vp, df.Vs, df.rho)\n",
    "\n",
    "df.E"
   ]
  },
  {
   "cell_type": "markdown",
   "metadata": {},
   "source": [
    "We can't convert the units of a whole `Series` but we can do one:"
   ]
  },
  {
   "cell_type": "code",
   "execution_count": 45,
   "metadata": {},
   "outputs": [
    {
     "data": {
      "text/html": [
       "9.075366233766236 gigapascal"
      ],
      "text/latex": [
       "$9.075366233766236\\ \\mathrm{gigapascal}$"
      ],
      "text/plain": [
       "<Quantity(9.07536623, 'gigapascal')>"
      ]
     },
     "execution_count": 45,
     "metadata": {},
     "output_type": "execute_result"
    }
   ],
   "source": [
    "df.loc[0, 'E'].to('GPa')"
   ]
  },
  {
   "cell_type": "markdown",
   "metadata": {},
   "source": [
    "So to convert a whole series, we can use `Series.apply()`:"
   ]
  },
  {
   "cell_type": "code",
   "execution_count": 47,
   "metadata": {},
   "outputs": [
    {
     "data": {
      "text/plain": [
       "0     9.075366233766236\n",
       "1     9.792000000000003\n",
       "2    10.483220521255063\n",
       "3    12.550276023391817\n",
       "Name: E, dtype: pint[gigapascal][Float64]"
      ]
     },
     "execution_count": 47,
     "metadata": {},
     "output_type": "execute_result"
    }
   ],
   "source": [
    "df.E.apply(lambda x: x.to('GPa'))"
   ]
  },
  {
   "cell_type": "markdown",
   "metadata": {},
   "source": [
    "## Bonus: dataframe display with units\n",
    "\n",
    "We *could* subclass dataframes to tweak their `_repr_html_()` method, which would allow us to make units show up in the Notebook representation of the dataframe..."
   ]
  },
  {
   "cell_type": "code",
   "execution_count": 48,
   "metadata": {},
   "outputs": [],
   "source": [
    "class UnitDataFrame(pd.DataFrame):\n",
    "    def _repr_html_(self):\n",
    "        \"\"\"New repr for Jupyter Notebook.\"\"\"\n",
    "        html = super()._repr_html_()  # Get the old repr string.\n",
    "        units = [''] + [f\"{dtype.units:~H}\" for dtype in self.dtypes]\n",
    "        style = \"text-align: right; color: gray;\"\n",
    "        new = f'<tr style=\"{style}\"><th>' + \"</th><th>\".join(units) + \"</th></tr></thead>\"\n",
    "        return html.replace('</thead>', new)"
   ]
  },
  {
   "cell_type": "code",
   "execution_count": 49,
   "metadata": {},
   "outputs": [
    {
     "data": {
      "text/html": [
       "<div>\n",
       "<style scoped>\n",
       "    .dataframe tbody tr th:only-of-type {\n",
       "        vertical-align: middle;\n",
       "    }\n",
       "\n",
       "    .dataframe tbody tr th {\n",
       "        vertical-align: top;\n",
       "    }\n",
       "\n",
       "    .dataframe thead th {\n",
       "        text-align: right;\n",
       "    }\n",
       "</style>\n",
       "<table border=\"1\" class=\"dataframe\">\n",
       "  <thead>\n",
       "    <tr style=\"text-align: right;\">\n",
       "      <th></th>\n",
       "      <th>Vp</th>\n",
       "      <th>Vs</th>\n",
       "      <th>rho</th>\n",
       "    </tr>\n",
       "  <tr style=\"text-align: right; color: gray;\"><th></th><th>m/s</th><th>m/s</th><th>kg/m<sup>3</sup></th></tr></thead>\n",
       "  <tbody>\n",
       "    <tr>\n",
       "      <th>0</th>\n",
       "      <td>2300.0</td>\n",
       "      <td>1200.0</td>\n",
       "      <td>2400.0</td>\n",
       "    </tr>\n",
       "    <tr>\n",
       "      <th>1</th>\n",
       "      <td>2400.0</td>\n",
       "      <td>1200.0</td>\n",
       "      <td>2550.0</td>\n",
       "    </tr>\n",
       "    <tr>\n",
       "      <th>2</th>\n",
       "      <td>2550.0</td>\n",
       "      <td>1250.0</td>\n",
       "      <td>2500.0</td>\n",
       "    </tr>\n",
       "    <tr>\n",
       "      <th>3</th>\n",
       "      <td>3200.0</td>\n",
       "      <td>1300.0</td>\n",
       "      <td>2650.0</td>\n",
       "    </tr>\n",
       "  </tbody>\n",
       "</table>\n",
       "</div>"
      ],
      "text/plain": [
       "       Vp      Vs     rho\n",
       "0  2300.0  1200.0  2400.0\n",
       "1  2400.0  1200.0  2550.0\n",
       "2  2550.0  1250.0  2500.0\n",
       "3  3200.0  1300.0  2650.0"
      ]
     },
     "execution_count": 49,
     "metadata": {},
     "output_type": "execute_result"
    }
   ],
   "source": [
    "df = UnitDataFrame({\n",
    "    \"Vp\": pd.Series(vp.m, dtype=\"pint[m/s]\"),\n",
    "    \"Vs\": pd.Series([1200, 1200, 1250, 1300], dtype=\"pint[m/s]\"),\n",
    "    \"rho\": pd.Series(rho.m, dtype=\"pint[kg/m**3]\"),\n",
    "})\n",
    "\n",
    "df"
   ]
  },
  {
   "cell_type": "markdown",
   "metadata": {},
   "source": [
    "Cute."
   ]
  },
  {
   "cell_type": "markdown",
   "metadata": {},
   "source": [
    "<hr />\n",
    "\n",
    "© 2025 Matt Hall, licensed CC BY-SA"
   ]
  }
 ],
 "metadata": {
  "authors": [
   {
    "email": "kwinkunks@gmail.com",
    "github": "kwinkunks",
    "name": "Matt Hall",
    "orcid": "0000-0002-4054-8295"
   }
  ],
  "kernelspec": {
   "display_name": "Python 3 (ipykernel)",
   "language": "python",
   "name": "python3"
  },
  "language_info": {
   "codemirror_mode": {
    "name": "ipython",
    "version": 3
   },
   "file_extension": ".py",
   "mimetype": "text/x-python",
   "name": "python",
   "nbconvert_exporter": "python",
   "pygments_lexer": "ipython3",
   "version": "3.13.5"
  },
  "license": {
   "code": "MIT",
   "text": "CC BY-SA"
  },
  "tags": [
   "python",
   "science",
   "units"
  ]
 },
 "nbformat": 4,
 "nbformat_minor": 4
}
