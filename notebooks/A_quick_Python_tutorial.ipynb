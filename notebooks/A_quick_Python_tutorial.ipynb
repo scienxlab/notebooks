{
 "cells": [
  {
   "cell_type": "raw",
   "metadata": {},
   "source": [
    "---\n",
    "authors:\n",
    "  - name: Matt Hall\n",
    "    orcid: 0000-0002-4054-8295\n",
    "    email: kwinkunks@gmail.com\n",
    "    github: kwinkunks\n",
    "license:\n",
    "  text: CC BY-SA\n",
    "  code: MIT\n",
    "tags:\n",
    "  - python\n",
    "  - tutorial\n",
    "---"
   ]
  },
  {
   "cell_type": "markdown",
   "metadata": {},
   "source": [
    "# A quick Python tutorial\n",
    "\n",
    "The goal of this notebook is to give you just enough toeholds in the Python language to start exploring. If you already know some Python, it's probably not for you.\n",
    "\n",
    "To learn a bit more about Jupyter Noteboks and the Python language, read on."
   ]
  },
  {
   "cell_type": "markdown",
   "metadata": {},
   "source": [
    "## About notebooks\n",
    "\n",
    "Notebooks are documents that can be rendered as HTML by the Jupyter server that's running on your computer when you start Jupyter. (The actual document, the `.ipynb` file, is stored in a format called JSON.) \n",
    "\n",
    "Notebooks are useful because they combine code blocks with text blocks (like this one). Double click on a text block to edit it. **Shift** + **Enter** to render it.\n",
    "\n",
    "The text blocks are written in a mark-up language called [Markdown](https://daringfireball.net/projects/markdown/). It's worth learning Markdown's syntax, it's very useful for writing documentation.\n",
    "\n",
    "The code blocks are written in Python. Here's one:"
   ]
  },
  {
   "cell_type": "code",
   "execution_count": 1,
   "metadata": {},
   "outputs": [
    {
     "name": "stdout",
     "output_type": "stream",
     "text": [
      "Hello world\n"
     ]
    }
   ],
   "source": [
    "print(\"Hello world\")"
   ]
  },
  {
   "cell_type": "markdown",
   "metadata": {},
   "source": [
    "Click on a code block to edit it. Press **Shift** + **Enter** to run it."
   ]
  },
  {
   "cell_type": "markdown",
   "metadata": {},
   "source": [
    "You can add more blocks with the **+** button, or by pressing **Esc** then **B**. "
   ]
  },
  {
   "cell_type": "markdown",
   "metadata": {},
   "source": [
    "## Maths!\n",
    "\n",
    "Let's write some code..."
   ]
  },
  {
   "cell_type": "code",
   "execution_count": 3,
   "metadata": {},
   "outputs": [
    {
     "data": {
      "text/plain": [
       "8.14"
      ]
     },
     "execution_count": 3,
     "metadata": {},
     "output_type": "execute_result"
    }
   ],
   "source": [
    "# This is a code comment. Python ignores it.\n",
    "\n",
    "a = 5  # a is a 'variable' or 'name'. Variables store data.\n",
    "\n",
    "a + 3.14"
   ]
  },
  {
   "cell_type": "code",
   "execution_count": 2,
   "metadata": {},
   "outputs": [
    {
     "data": {
      "text/plain": [
       "14"
      ]
     },
     "execution_count": 2,
     "metadata": {},
     "output_type": "execute_result"
    }
   ],
   "source": [
    "4 * 5 - 6"
   ]
  },
  {
   "cell_type": "markdown",
   "metadata": {},
   "source": [
    "Make some more code blocks &mdash; click this cell then press **Esc** then **B** to add new cells Below (hence B) this cell."
   ]
  },
  {
   "cell_type": "code",
   "execution_count": 3,
   "metadata": {},
   "outputs": [
    {
     "data": {
      "text/plain": [
       "3"
      ]
     },
     "execution_count": 3,
     "metadata": {},
     "output_type": "execute_result"
    }
   ],
   "source": [
    "11 // 3  # This is integer division"
   ]
  },
  {
   "cell_type": "code",
   "execution_count": 5,
   "metadata": {},
   "outputs": [
    {
     "data": {
      "text/plain": [
       "300000.0"
      ]
     },
     "execution_count": 5,
     "metadata": {},
     "output_type": "execute_result"
    }
   ],
   "source": [
    "3e5  # This is a float, like 3.14, but it means '3 times 10 to the power of 5'"
   ]
  },
  {
   "cell_type": "code",
   "execution_count": 6,
   "metadata": {},
   "outputs": [
    {
     "data": {
      "text/plain": [
       "8"
      ]
     },
     "execution_count": 6,
     "metadata": {},
     "output_type": "execute_result"
    }
   ],
   "source": [
    "2**3  # This is 2 to the power of 3, note it is NOT 2^3"
   ]
  },
  {
   "cell_type": "markdown",
   "metadata": {},
   "source": [
    "For more maths you might need to import the `math` module, which is built into Python. It contains lots of mathematical functions e.g. "
   ]
  },
  {
   "cell_type": "code",
   "execution_count": 4,
   "metadata": {},
   "outputs": [
    {
     "data": {
      "text/plain": [
       "2.23606797749979"
      ]
     },
     "execution_count": 4,
     "metadata": {},
     "output_type": "execute_result"
    }
   ],
   "source": [
    "import math\n",
    "\n",
    "math.sqrt(5)"
   ]
  },
  {
   "cell_type": "markdown",
   "metadata": {},
   "source": [
    "In practice, though, we usuallu use NumPy, which has all the same things as `math` plus 1 million other things:"
   ]
  },
  {
   "cell_type": "code",
   "execution_count": 7,
   "metadata": {},
   "outputs": [
    {
     "data": {
      "text/plain": [
       "2.23606797749979"
      ]
     },
     "execution_count": 7,
     "metadata": {},
     "output_type": "execute_result"
    }
   ],
   "source": [
    "import numpy as np\n",
    "\n",
    "np.sqrt(5)"
   ]
  },
  {
   "cell_type": "markdown",
   "metadata": {},
   "source": [
    "## Strings!\n",
    "\n",
    "Strings are ordered sequences of characters. "
   ]
  },
  {
   "cell_type": "code",
   "execution_count": 9,
   "metadata": {},
   "outputs": [
    {
     "name": "stdout",
     "output_type": "stream",
     "text": [
      "Sandstone\n"
     ]
    }
   ],
   "source": [
    "s = \"Sandstone\"\n",
    "\n",
    "print(s)"
   ]
  },
  {
   "cell_type": "code",
   "execution_count": 10,
   "metadata": {},
   "outputs": [
    {
     "data": {
      "text/plain": [
       "'n'"
      ]
     },
     "execution_count": 10,
     "metadata": {},
     "output_type": "execute_result"
    }
   ],
   "source": [
    "s[2]  # Indexing. This means 'give me the 3rd character in s (Python counts from 0)'"
   ]
  },
  {
   "cell_type": "code",
   "execution_count": 11,
   "metadata": {},
   "outputs": [
    {
     "data": {
      "text/plain": [
       "'ndst'"
      ]
     },
     "execution_count": 11,
     "metadata": {},
     "output_type": "execute_result"
    }
   ],
   "source": [
    "s[2:6]  # Slicing. This means 'give me characters from index 2 up to (not including) index 6'"
   ]
  },
  {
   "cell_type": "markdown",
   "metadata": {},
   "source": [
    "Strings have 'methods' that are functions that are sort of 'attached' to the strings you make:"
   ]
  },
  {
   "cell_type": "code",
   "execution_count": 12,
   "metadata": {},
   "outputs": [
    {
     "data": {
      "text/plain": [
       "'SANDSTONE'"
      ]
     },
     "execution_count": 12,
     "metadata": {},
     "output_type": "execute_result"
    }
   ],
   "source": [
    "s.upper()"
   ]
  },
  {
   "cell_type": "code",
   "execution_count": 13,
   "metadata": {},
   "outputs": [
    {
     "data": {
      "text/plain": [
       "'Sa***tone'"
      ]
     },
     "execution_count": 13,
     "metadata": {},
     "output_type": "execute_result"
    }
   ],
   "source": [
    "s.replace('nds', '***')"
   ]
  },
  {
   "cell_type": "code",
   "execution_count": 14,
   "metadata": {},
   "outputs": [
    {
     "data": {
      "text/plain": [
       "3"
      ]
     },
     "execution_count": 14,
     "metadata": {},
     "output_type": "execute_result"
    }
   ],
   "source": [
    "s.find('d')  # At which index is the 'd'?"
   ]
  },
  {
   "cell_type": "markdown",
   "metadata": {},
   "source": [
    "## Lists!\n",
    "\n",
    "Sometimes (often) you want to store ordered sequences of other things - not just characters. Python's `list` object can store anything (including more lists!)."
   ]
  },
  {
   "cell_type": "code",
   "execution_count": 9,
   "metadata": {},
   "outputs": [],
   "source": [
    "mylist = [5, 10, 15, 20, 25, 30]"
   ]
  },
  {
   "cell_type": "code",
   "execution_count": 10,
   "metadata": {},
   "outputs": [
    {
     "data": {
      "text/plain": [
       "15"
      ]
     },
     "execution_count": 10,
     "metadata": {},
     "output_type": "execute_result"
    }
   ],
   "source": [
    "mylist[2]  # Indexing and slicing are just like they are for strings"
   ]
  },
  {
   "cell_type": "code",
   "execution_count": 11,
   "metadata": {},
   "outputs": [
    {
     "data": {
      "text/plain": [
       "30"
      ]
     },
     "execution_count": 11,
     "metadata": {},
     "output_type": "execute_result"
    }
   ],
   "source": [
    "mylist[-1]  # You can index backward from the end with negative numbers."
   ]
  },
  {
   "cell_type": "code",
   "execution_count": 12,
   "metadata": {},
   "outputs": [
    {
     "data": {
      "text/plain": [
       "[5, 10, 15, 20, 25, 30, 35]"
      ]
     },
     "execution_count": 12,
     "metadata": {},
     "output_type": "execute_result"
    }
   ],
   "source": [
    "mylist.append(35)  # Adds to the end of the list\n",
    "\n",
    "mylist"
   ]
  },
  {
   "cell_type": "markdown",
   "metadata": {},
   "source": [
    "## Loops!\n",
    "\n",
    "Sometimes we need to visit every thing in a collection of things (often items in a list). We call this kind of iteration a **loop**. \n",
    "\n",
    "Loops in Python have the pattern:\n",
    "\n",
    "    for thing in things:\n",
    "        <do something to thing>\n",
    "        <do something else on every iteration>\n",
    "\n",
    "    <now the loop is over>\n",
    "\n",
    "While we are visiting each thing in turn, we can do things to it &mdash; e.g. transform it and print it:"
   ]
  },
  {
   "cell_type": "code",
   "execution_count": 15,
   "metadata": {},
   "outputs": [
    {
     "name": "stdout",
     "output_type": "stream",
     "text": [
      "5000\n",
      "10000\n",
      "15000\n",
      "20000\n",
      "25000\n",
      "30000\n",
      "35000\n"
     ]
    }
   ],
   "source": [
    "for n in mylist:\n",
    "    transformed_n = n * 1000\n",
    "    print(transformed_n)"
   ]
  },
  {
   "cell_type": "markdown",
   "metadata": {},
   "source": [
    "Notice that the contents of the iteration loop are indented by 4 spaces. That's how Python knows those lines are part of the loop."
   ]
  },
  {
   "cell_type": "markdown",
   "metadata": {},
   "source": [
    "## Conditions!\n",
    "\n",
    "Sometimes we need to make decisions:"
   ]
  },
  {
   "cell_type": "code",
   "execution_count": 16,
   "metadata": {},
   "outputs": [
    {
     "name": "stdout",
     "output_type": "stream",
     "text": [
      "26\n",
      "31\n",
      "36\n"
     ]
    }
   ],
   "source": [
    "for n in mylist:\n",
    "    if n > 20: \n",
    "        print(n + 1)"
   ]
  },
  {
   "cell_type": "markdown",
   "metadata": {},
   "source": [
    "The conditional statement also has an indented block. So the inner `print` is indented twice: it's inside the conditional block, which in turn is inside the `for` loop."
   ]
  },
  {
   "cell_type": "markdown",
   "metadata": {},
   "source": [
    "## Functions!\n",
    "\n",
    "Functions let us organize code into little \"machines\" that do useful things.\n",
    "\n",
    "Here's how to make a little machine that adds two numbers together then squares the result:"
   ]
  },
  {
   "cell_type": "code",
   "execution_count": 5,
   "metadata": {},
   "outputs": [],
   "source": [
    "def square_sum(a, b):\n",
    "    \"\"\"\n",
    "    This function adds two numbers then squares the result.\n",
    "    \"\"\"\n",
    "    added = a + b\n",
    "    return added**2"
   ]
  },
  {
   "cell_type": "markdown",
   "metadata": {},
   "source": [
    "That cell runs but produces no output, because we only **defined** the function. It's ready to use... now we can **call** the function to see what it does."
   ]
  },
  {
   "cell_type": "code",
   "execution_count": 6,
   "metadata": {},
   "outputs": [
    {
     "data": {
      "text/plain": [
       "64"
      ]
     },
     "execution_count": 6,
     "metadata": {},
     "output_type": "execute_result"
    }
   ],
   "source": [
    "square_sum(3, 5)"
   ]
  },
  {
   "cell_type": "markdown",
   "metadata": {},
   "source": [
    "Functions can do whatever you like, handling multiple inputs and returning multiple things. But in general we try to keep them simple.\n",
    "\n",
    "Here's one that breaks some text into a list of unique words."
   ]
  },
  {
   "cell_type": "code",
   "execution_count": 7,
   "metadata": {},
   "outputs": [
    {
     "data": {
      "text/plain": [
       "'rt'"
      ]
     },
     "execution_count": 7,
     "metadata": {},
     "output_type": "execute_result"
    }
   ],
   "source": [
    "\"rt!\".strip(',.;:!?')"
   ]
  },
  {
   "cell_type": "code",
   "execution_count": 19,
   "metadata": {},
   "outputs": [],
   "source": [
    "def unique_words(text):\n",
    "    \"\"\"\n",
    "    Get a list of unique words from a piece of text.\n",
    "    \"\"\"\n",
    "    punctuation = \" .,:;-'!?&()[]<>~\\\"\"\n",
    "    unique = []\n",
    "    for chunk in text.split():\n",
    "        clean = chunk.strip(punctuation).lower()\n",
    "        if clean not in unique:\n",
    "            unique.append(clean)\n",
    "    return unique"
   ]
  },
  {
   "cell_type": "markdown",
   "metadata": {},
   "source": [
    "Now we can call it:"
   ]
  },
  {
   "cell_type": "code",
   "execution_count": 20,
   "metadata": {},
   "outputs": [
    {
     "data": {
      "text/plain": [
       "['the',\n",
       " 'quick',\n",
       " 'brown',\n",
       " 'fox',\n",
       " 'jumps',\n",
       " 'over',\n",
       " 'lazy',\n",
       " 'dog',\n",
       " 'but',\n",
       " \"doesn't\",\n",
       " 'jump',\n",
       " 'anything']"
      ]
     },
     "execution_count": 20,
     "metadata": {},
     "output_type": "execute_result"
    }
   ],
   "source": [
    "some_text = \"The quick brown fox jumps over the lazy dog, but the lazy dog doesn't jump over anything.\"\n",
    "\n",
    "unique_words(some_text)"
   ]
  },
  {
   "cell_type": "markdown",
   "metadata": {},
   "source": [
    "<hr />\n",
    "\n",
    "© 2025 Matt Hall, licensed CC BY-SA"
   ]
  }
 ],
 "metadata": {
  "authors": [
   {
    "email": "kwinkunks@gmail.com",
    "github": "kwinkunks",
    "name": "Matt Hall",
    "orcid": "0000-0002-4054-8295"
   }
  ],
  "kernelspec": {
   "display_name": "Python 3 (ipykernel)",
   "language": "python",
   "name": "python3"
  },
  "language_info": {
   "codemirror_mode": {
    "name": "ipython",
    "version": 3
   },
   "file_extension": ".py",
   "mimetype": "text/x-python",
   "name": "python",
   "nbconvert_exporter": "python",
   "pygments_lexer": "ipython3",
   "version": "3.13.5"
  },
  "license": {
   "code": "MIT",
   "text": "CC BY-SA"
  },
  "tags": [
   "python",
   "tutorial"
  ]
 },
 "nbformat": 4,
 "nbformat_minor": 4
}
