{
 "cells": [
  {
   "cell_type": "raw",
   "metadata": {},
   "source": [
    "---\n",
    "authors:\n",
    "  - name: Matt Hall\n",
    "    orcid: 0000-0002-4054-8295\n",
    "    email: kwinkunks@gmail.com\n",
    "    github: kwinkunks\n",
    "license:\n",
    "  text: CC BY\n",
    "  code: MIT\n",
    "tags:\n",
    "  - python\n",
    "  - color\n",
    "  - visualization\n",
    "---"
   ]
  },
  {
   "cell_type": "markdown",
   "metadata": {},
   "source": [
    "# Custom colormaps\n",
    "\n",
    "Let's start by looking at a built-in `matplotlib` colormap, the default one called \"viridis\":"
   ]
  },
  {
   "cell_type": "code",
   "execution_count": 1,
   "metadata": {},
   "outputs": [
    {
     "data": {
      "image/png": "[encoded data removed]",
      "text/html": [
       "<div style=\"vertical-align: middle;\"><strong>viridis</strong> </div><div class=\"cmap\"><img alt=\"viridis colormap\" title=\"viridis\" style=\"border: 1px solid #555;\" src=\"data:image/png;base64,iVBORw0KGgoAAAANSUhEUgAAAgAAAABACAYAAABsv8+/AAAAFnRFWHRUaXRsZQB2aXJpZGlzIGNvbG9ybWFwrE0mCwAAABx0RVh0RGVzY3JpcHRpb24AdmlyaWRpcyBjb2xvcm1hcAtjl3IAAAAxdEVYdEF1dGhvcgBNYXRwbG90bGliIHYzLjEwLjMsIGh0dHBzOi8vbWF0cGxvdGxpYi5vcmeGenhVAAAAM3RFWHRTb2Z0d2FyZQBNYXRwbG90bGliIHYzLjEwLjMsIGh0dHBzOi8vbWF0cGxvdGxpYi5vcmcjXmuhAAACIklEQVR4nO3WQZKbMBRF0S/YWpaQ/S8l9CAyFAIZx5XZO2fikvQRVA+6bvvVfm9VVdVa/f1d+s95XX3dXnNL3x/Wx/n98+N7LvfO7r/ce/+7PZzPnt/28/ryvE737/Ot7ueG+8b563q8f3ZvDc8N9ywP55fn37/nef3p/ffrb9/zv+9/nKv3c5/vb989X0/z21ffMZ4fc5Pz/Ttmz7/fb5O5dlkPz9U4N/xbm64f9vu9y2V+6/s1rMfz+3tmc/tvPZwPc0v78+HceX795/Pze9a6f++4v76eq4f1673D+67r++847j1//zF/vu86P7xvtj98x+x71xr/Lue/53rZr75f5/W+34b9vu77+7pPHPNL/+1zbTndAwAEEQAAEEgAAEAgAQAAgQQAAAQSAAAQSAAAQCABAACBBAAABBIAABBIAABAIAEAAIEEAAAEEgAAEEgAAEAgAQAAgQQAAAQSAAAQSAAAQCABAACBBAAABBIAABBIAABAIAEAAIEEAAAEEgAAEEgAAEAgAQAAgQQAAAQSAAAQSAAAQCABAACBBAAABBIAABBIAABAIAEAAIEEAAAEEgAAEEgAAEAgAQAAgQQAAAQSAAAQSAAAQCABAACBBAAABBIAABBIAABAIAEAAIEEAAAEEgAAEEgAAEAgAQAAgQQAAAQSAAAQSAAAQCABAACBBAAABBIAABBIAABAIAEAAIEEAAAEEgAAEEgAAECgH25wiYfFwpm0AAAAAElFTkSuQmCC\"></div><div style=\"vertical-align: middle; max-width: 514px; display: flex; justify-content: space-between;\"><div style=\"float: left;\"><div title=\"#440154ff\" style=\"display: inline-block; width: 1em; height: 1em; margin: 0; vertical-align: middle; border: 1px solid #555; background-color: #440154ff;\"></div> under</div><div style=\"margin: 0 auto; display: inline-block;\">bad <div title=\"#00000000\" style=\"display: inline-block; width: 1em; height: 1em; margin: 0; vertical-align: middle; border: 1px solid #555; background-color: #00000000;\"></div></div><div style=\"float: right;\">over <div title=\"#fde725ff\" style=\"display: inline-block; width: 1em; height: 1em; margin: 0; vertical-align: middle; border: 1px solid #555; background-color: #fde725ff;\"></div></div></div>"
      ],
      "text/plain": [
       "<matplotlib.colors.ListedColormap at 0x7150007b71d0>"
      ]
     },
     "execution_count": 1,
     "metadata": {},
     "output_type": "execute_result"
    }
   ],
   "source": [
    "import numpy as np\n",
    "from matplotlib import colormaps as cm\n",
    "from matplotlib.colors import ListedColormap, LinearSegmentedColormap\n",
    "\n",
    "viridis = cm.get_cmap('viridis')\n",
    "viridis"
   ]
  },
  {
   "cell_type": "markdown",
   "metadata": {},
   "source": [
    "This is a `ListedColormap`. We can get an RGBA color (i.e. red, green, blue, alpha, where alpha is opacity) for a particular value &mdash; based on the range (0, 1):"
   ]
  },
  {
   "cell_type": "code",
   "execution_count": 2,
   "metadata": {},
   "outputs": [
    {
     "data": {
      "text/plain": [
       "(np.float64(0.120081),\n",
       " np.float64(0.622161),\n",
       " np.float64(0.534946),\n",
       " np.float64(1.0))"
      ]
     },
     "execution_count": 2,
     "metadata": {},
     "output_type": "execute_result"
    }
   ],
   "source": [
    "viridis(0.56)"
   ]
  },
  {
   "cell_type": "markdown",
   "metadata": {},
   "source": [
    "Or look at all the colours:"
   ]
  },
  {
   "cell_type": "code",
   "execution_count": 3,
   "metadata": {},
   "outputs": [
    {
     "data": {
      "text/plain": [
       "[[0.267004, 0.004874, 0.329415],\n",
       " [0.26851, 0.009605, 0.335427],\n",
       " [0.269944, 0.014625, 0.341379],\n",
       " [0.271305, 0.019942, 0.347269],\n",
       " [0.272594, 0.025563, 0.353093],\n",
       " [0.273809, 0.031497, 0.358853],\n",
       " [0.274952, 0.037752, 0.364543],\n",
       " [0.276022, 0.044167, 0.370164],\n",
       " [0.277018, 0.050344, 0.375715],\n",
       " [0.277941, 0.056324, 0.381191],\n",
       " [0.278791, 0.062145, 0.386592],\n",
       " [0.279566, 0.067836, 0.391917],\n",
       " [0.280267, 0.073417, 0.397163],\n",
       " [0.280894, 0.078907, 0.402329],\n",
       " [0.281446, 0.08432, 0.407414],\n",
       " [0.281924, 0.089666, 0.412415],\n",
       " [0.282327, 0.094955, 0.417331],\n",
       " [0.282656, 0.100196, 0.42216],\n",
       " [0.28291, 0.105393, 0.426902],\n",
       " [0.283091, 0.110553, 0.431554],\n",
       " [0.283197, 0.11568, 0.436115],\n",
       " [0.283229, 0.120777, 0.440584],\n",
       " [0.283187, 0.125848, 0.44496],\n",
       " [0.283072, 0.130895, 0.449241],\n",
       " [0.282884, 0.13592, 0.453427],\n",
       " [0.282623, 0.140926, 0.457517],\n",
       " [0.28229, 0.145912, 0.46151],\n",
       " [0.281887, 0.150881, 0.465405],\n",
       " [0.281412, 0.155834, 0.469201],\n",
       " [0.280868, 0.160771, 0.472899],\n",
       " [0.280255, 0.165693, 0.476498],\n",
       " [0.279574, 0.170599, 0.479997],\n",
       " [0.278826, 0.17549, 0.483397],\n",
       " [0.278012, 0.180367, 0.486697],\n",
       " [0.277134, 0.185228, 0.489898],\n",
       " [0.276194, 0.190074, 0.493001],\n",
       " [0.275191, 0.194905, 0.496005],\n",
       " [0.274128, 0.199721, 0.498911],\n",
       " [0.273006, 0.20452, 0.501721],\n",
       " [0.271828, 0.209303, 0.504434],\n",
       " [0.270595, 0.214069, 0.507052],\n",
       " [0.269308, 0.218818, 0.509577],\n",
       " [0.267968, 0.223549, 0.512008],\n",
       " [0.26658, 0.228262, 0.514349],\n",
       " [0.265145, 0.232956, 0.516599],\n",
       " [0.263663, 0.237631, 0.518762],\n",
       " [0.262138, 0.242286, 0.520837],\n",
       " [0.260571, 0.246922, 0.522828],\n",
       " [0.258965, 0.251537, 0.524736],\n",
       " [0.257322, 0.25613, 0.526563],\n",
       " [0.255645, 0.260703, 0.528312],\n",
       " [0.253935, 0.265254, 0.529983],\n",
       " [0.252194, 0.269783, 0.531579],\n",
       " [0.250425, 0.27429, 0.533103],\n",
       " [0.248629, 0.278775, 0.534556],\n",
       " [0.246811, 0.283237, 0.535941],\n",
       " [0.244972, 0.287675, 0.53726],\n",
       " [0.243113, 0.292092, 0.538516],\n",
       " [0.241237, 0.296485, 0.539709],\n",
       " [0.239346, 0.300855, 0.540844],\n",
       " [0.237441, 0.305202, 0.541921],\n",
       " [0.235526, 0.309527, 0.542944],\n",
       " [0.233603, 0.313828, 0.543914],\n",
       " [0.231674, 0.318106, 0.544834],\n",
       " [0.229739, 0.322361, 0.545706],\n",
       " [0.227802, 0.326594, 0.546532],\n",
       " [0.225863, 0.330805, 0.547314],\n",
       " [0.223925, 0.334994, 0.548053],\n",
       " [0.221989, 0.339161, 0.548752],\n",
       " [0.220057, 0.343307, 0.549413],\n",
       " [0.21813, 0.347432, 0.550038],\n",
       " [0.21621, 0.351535, 0.550627],\n",
       " [0.214298, 0.355619, 0.551184],\n",
       " [0.212395, 0.359683, 0.55171],\n",
       " [0.210503, 0.363727, 0.552206],\n",
       " [0.208623, 0.367752, 0.552675],\n",
       " [0.206756, 0.371758, 0.553117],\n",
       " [0.204903, 0.375746, 0.553533],\n",
       " [0.203063, 0.379716, 0.553925],\n",
       " [0.201239, 0.38367, 0.554294],\n",
       " [0.19943, 0.387607, 0.554642],\n",
       " [0.197636, 0.391528, 0.554969],\n",
       " [0.19586, 0.395433, 0.555276],\n",
       " [0.1941, 0.399323, 0.555565],\n",
       " [0.192357, 0.403199, 0.555836],\n",
       " [0.190631, 0.407061, 0.556089],\n",
       " [0.188923, 0.41091, 0.556326],\n",
       " [0.187231, 0.414746, 0.556547],\n",
       " [0.185556, 0.41857, 0.556753],\n",
       " [0.183898, 0.422383, 0.556944],\n",
       " [0.182256, 0.426184, 0.55712],\n",
       " [0.180629, 0.429975, 0.557282],\n",
       " [0.179019, 0.433756, 0.55743],\n",
       " [0.177423, 0.437527, 0.557565],\n",
       " [0.175841, 0.44129, 0.557685],\n",
       " [0.174274, 0.445044, 0.557792],\n",
       " [0.172719, 0.448791, 0.557885],\n",
       " [0.171176, 0.45253, 0.557965],\n",
       " [0.169646, 0.456262, 0.55803],\n",
       " [0.168126, 0.459988, 0.558082],\n",
       " [0.166617, 0.463708, 0.558119],\n",
       " [0.165117, 0.467423, 0.558141],\n",
       " [0.163625, 0.471133, 0.558148],\n",
       " [0.162142, 0.474838, 0.55814],\n",
       " [0.160665, 0.47854, 0.558115],\n",
       " [0.159194, 0.482237, 0.558073],\n",
       " [0.157729, 0.485932, 0.558013],\n",
       " [0.15627, 0.489624, 0.557936],\n",
       " [0.154815, 0.493313, 0.55784],\n",
       " [0.153364, 0.497, 0.557724],\n",
       " [0.151918, 0.500685, 0.557587],\n",
       " [0.150476, 0.504369, 0.55743],\n",
       " [0.149039, 0.508051, 0.55725],\n",
       " [0.147607, 0.511733, 0.557049],\n",
       " [0.14618, 0.515413, 0.556823],\n",
       " [0.144759, 0.519093, 0.556572],\n",
       " [0.143343, 0.522773, 0.556295],\n",
       " [0.141935, 0.526453, 0.555991],\n",
       " [0.140536, 0.530132, 0.555659],\n",
       " [0.139147, 0.533812, 0.555298],\n",
       " [0.13777, 0.537492, 0.554906],\n",
       " [0.136408, 0.541173, 0.554483],\n",
       " [0.135066, 0.544853, 0.554029],\n",
       " [0.133743, 0.548535, 0.553541],\n",
       " [0.132444, 0.552216, 0.553018],\n",
       " [0.131172, 0.555899, 0.552459],\n",
       " [0.129933, 0.559582, 0.551864],\n",
       " [0.128729, 0.563265, 0.551229],\n",
       " [0.127568, 0.566949, 0.550556],\n",
       " [0.126453, 0.570633, 0.549841],\n",
       " [0.125394, 0.574318, 0.549086],\n",
       " [0.124395, 0.578002, 0.548287],\n",
       " [0.123463, 0.581687, 0.547445],\n",
       " [0.122606, 0.585371, 0.546557],\n",
       " [0.121831, 0.589055, 0.545623],\n",
       " [0.121148, 0.592739, 0.544641],\n",
       " [0.120565, 0.596422, 0.543611],\n",
       " [0.120092, 0.600104, 0.54253],\n",
       " [0.119738, 0.603785, 0.5414],\n",
       " [0.119512, 0.607464, 0.540218],\n",
       " [0.119423, 0.611141, 0.538982],\n",
       " [0.119483, 0.614817, 0.537692],\n",
       " [0.119699, 0.61849, 0.536347],\n",
       " [0.120081, 0.622161, 0.534946],\n",
       " [0.120638, 0.625828, 0.533488],\n",
       " [0.12138, 0.629492, 0.531973],\n",
       " [0.122312, 0.633153, 0.530398],\n",
       " [0.123444, 0.636809, 0.528763],\n",
       " [0.12478, 0.640461, 0.527068],\n",
       " [0.126326, 0.644107, 0.525311],\n",
       " [0.128087, 0.647749, 0.523491],\n",
       " [0.130067, 0.651384, 0.521608],\n",
       " [0.132268, 0.655014, 0.519661],\n",
       " [0.134692, 0.658636, 0.517649],\n",
       " [0.137339, 0.662252, 0.515571],\n",
       " [0.14021, 0.665859, 0.513427],\n",
       " [0.143303, 0.669459, 0.511215],\n",
       " [0.146616, 0.67305, 0.508936],\n",
       " [0.150148, 0.676631, 0.506589],\n",
       " [0.153894, 0.680203, 0.504172],\n",
       " [0.157851, 0.683765, 0.501686],\n",
       " [0.162016, 0.687316, 0.499129],\n",
       " [0.166383, 0.690856, 0.496502],\n",
       " [0.170948, 0.694384, 0.493803],\n",
       " [0.175707, 0.6979, 0.491033],\n",
       " [0.180653, 0.701402, 0.488189],\n",
       " [0.185783, 0.704891, 0.485273],\n",
       " [0.19109, 0.708366, 0.482284],\n",
       " [0.196571, 0.711827, 0.479221],\n",
       " [0.202219, 0.715272, 0.476084],\n",
       " [0.20803, 0.718701, 0.472873],\n",
       " [0.214, 0.722114, 0.469588],\n",
       " [0.220124, 0.725509, 0.466226],\n",
       " [0.226397, 0.728888, 0.462789],\n",
       " [0.232815, 0.732247, 0.459277],\n",
       " [0.239374, 0.735588, 0.455688],\n",
       " [0.24607, 0.73891, 0.452024],\n",
       " [0.252899, 0.742211, 0.448284],\n",
       " [0.259857, 0.745492, 0.444467],\n",
       " [0.266941, 0.748751, 0.440573],\n",
       " [0.274149, 0.751988, 0.436601],\n",
       " [0.281477, 0.755203, 0.432552],\n",
       " [0.288921, 0.758394, 0.428426],\n",
       " [0.296479, 0.761561, 0.424223],\n",
       " [0.304148, 0.764704, 0.419943],\n",
       " [0.311925, 0.767822, 0.415586],\n",
       " [0.319809, 0.770914, 0.411152],\n",
       " [0.327796, 0.77398, 0.40664],\n",
       " [0.335885, 0.777018, 0.402049],\n",
       " [0.344074, 0.780029, 0.397381],\n",
       " [0.35236, 0.783011, 0.392636],\n",
       " [0.360741, 0.785964, 0.387814],\n",
       " [0.369214, 0.788888, 0.382914],\n",
       " [0.377779, 0.791781, 0.377939],\n",
       " [0.386433, 0.794644, 0.372886],\n",
       " [0.395174, 0.797475, 0.367757],\n",
       " [0.404001, 0.800275, 0.362552],\n",
       " [0.412913, 0.803041, 0.357269],\n",
       " [0.421908, 0.805774, 0.35191],\n",
       " [0.430983, 0.808473, 0.346476],\n",
       " [0.440137, 0.811138, 0.340967],\n",
       " [0.449368, 0.813768, 0.335384],\n",
       " [0.458674, 0.816363, 0.329727],\n",
       " [0.468053, 0.818921, 0.323998],\n",
       " [0.477504, 0.821444, 0.318195],\n",
       " [0.487026, 0.823929, 0.312321],\n",
       " [0.496615, 0.826376, 0.306377],\n",
       " [0.506271, 0.828786, 0.300362],\n",
       " [0.515992, 0.831158, 0.294279],\n",
       " [0.525776, 0.833491, 0.288127],\n",
       " [0.535621, 0.835785, 0.281908],\n",
       " [0.545524, 0.838039, 0.275626],\n",
       " [0.555484, 0.840254, 0.269281],\n",
       " [0.565498, 0.84243, 0.262877],\n",
       " [0.575563, 0.844566, 0.256415],\n",
       " [0.585678, 0.846661, 0.249897],\n",
       " [0.595839, 0.848717, 0.243329],\n",
       " [0.606045, 0.850733, 0.236712],\n",
       " [0.616293, 0.852709, 0.230052],\n",
       " [0.626579, 0.854645, 0.223353],\n",
       " [0.636902, 0.856542, 0.21662],\n",
       " [0.647257, 0.8584, 0.209861],\n",
       " [0.657642, 0.860219, 0.203082],\n",
       " [0.668054, 0.861999, 0.196293],\n",
       " [0.678489, 0.863742, 0.189503],\n",
       " [0.688944, 0.865448, 0.182725],\n",
       " [0.699415, 0.867117, 0.175971],\n",
       " [0.709898, 0.868751, 0.169257],\n",
       " [0.720391, 0.87035, 0.162603],\n",
       " [0.730889, 0.871916, 0.156029],\n",
       " [0.741388, 0.873449, 0.149561],\n",
       " [0.751884, 0.874951, 0.143228],\n",
       " [0.762373, 0.876424, 0.137064],\n",
       " [0.772852, 0.877868, 0.131109],\n",
       " [0.783315, 0.879285, 0.125405],\n",
       " [0.79376, 0.880678, 0.120005],\n",
       " [0.804182, 0.882046, 0.114965],\n",
       " [0.814576, 0.883393, 0.110347],\n",
       " [0.82494, 0.88472, 0.106217],\n",
       " [0.83527, 0.886029, 0.102646],\n",
       " [0.845561, 0.887322, 0.099702],\n",
       " [0.85581, 0.888601, 0.097452],\n",
       " [0.866013, 0.889868, 0.095953],\n",
       " [0.876168, 0.891125, 0.09525],\n",
       " [0.886271, 0.892374, 0.095374],\n",
       " [0.89632, 0.893616, 0.096335],\n",
       " [0.906311, 0.894855, 0.098125],\n",
       " [0.916242, 0.896091, 0.100717],\n",
       " [0.926106, 0.89733, 0.104071],\n",
       " [0.935904, 0.89857, 0.108131],\n",
       " [0.945636, 0.899815, 0.112838],\n",
       " [0.9553, 0.901065, 0.118128],\n",
       " [0.964894, 0.902323, 0.123941],\n",
       " [0.974417, 0.90359, 0.130215],\n",
       " [0.983868, 0.904867, 0.136897],\n",
       " [0.993248, 0.906157, 0.143936]]"
      ]
     },
     "execution_count": 3,
     "metadata": {},
     "output_type": "execute_result"
    }
   ],
   "source": [
    "viridis.colors"
   ]
  },
  {
   "cell_type": "markdown",
   "metadata": {},
   "source": [
    "## Under, over and bad\n",
    "\n",
    "You may not know that colormaps have some special values, allowing us to highlight bad values, as well as values that are under or over the ends of the colormap.\n",
    "\n",
    "Let's set them."
   ]
  },
  {
   "cell_type": "code",
   "execution_count": 4,
   "metadata": {},
   "outputs": [
    {
     "data": {
      "image/png": "[encoded data removed]",
      "text/html": [
       "<div style=\"vertical-align: middle;\"><strong>viridis</strong> </div><div class=\"cmap\"><img alt=\"viridis colormap\" title=\"viridis\" style=\"border: 1px solid #555;\" src=\"data:image/png;base64,iVBORw0KGgoAAAANSUhEUgAAAgAAAABACAYAAABsv8+/AAAAFnRFWHRUaXRsZQB2aXJpZGlzIGNvbG9ybWFwrE0mCwAAABx0RVh0RGVzY3JpcHRpb24AdmlyaWRpcyBjb2xvcm1hcAtjl3IAAAAxdEVYdEF1dGhvcgBNYXRwbG90bGliIHYzLjEwLjMsIGh0dHBzOi8vbWF0cGxvdGxpYi5vcmeGenhVAAAAM3RFWHRTb2Z0d2FyZQBNYXRwbG90bGliIHYzLjEwLjMsIGh0dHBzOi8vbWF0cGxvdGxpYi5vcmcjXmuhAAACIklEQVR4nO3WQZKbMBRF0S/YWpaQ/S8l9CAyFAIZx5XZO2fikvQRVA+6bvvVfm9VVdVa/f1d+s95XX3dXnNL3x/Wx/n98+N7LvfO7r/ce/+7PZzPnt/28/ryvE737/Ot7ueG+8b563q8f3ZvDc8N9ywP55fn37/nef3p/ffrb9/zv+9/nKv3c5/vb989X0/z21ffMZ4fc5Pz/Ttmz7/fb5O5dlkPz9U4N/xbm64f9vu9y2V+6/s1rMfz+3tmc/tvPZwPc0v78+HceX795/Pze9a6f++4v76eq4f1673D+67r++847j1//zF/vu86P7xvtj98x+x71xr/Lue/53rZr75f5/W+34b9vu77+7pPHPNL/+1zbTndAwAEEQAAEEgAAEAgAQAAgQQAAAQSAAAQSAAAQCABAACBBAAABBIAABBIAABAIAEAAIEEAAAEEgAAEEgAAEAgAQAAgQQAAAQSAAAQSAAAQCABAACBBAAABBIAABBIAABAIAEAAIEEAAAEEgAAEEgAAEAgAQAAgQQAAAQSAAAQSAAAQCABAACBBAAABBIAABBIAABAIAEAAIEEAAAEEgAAEEgAAEAgAQAAgQQAAAQSAAAQSAAAQCABAACBBAAABBIAABBIAABAIAEAAIEEAAAEEgAAEEgAAEAgAQAAgQQAAAQSAAAQSAAAQCABAACBBAAABBIAABBIAABAIAEAAIEEAAAEEgAAEEgAAECgH25wiYfFwpm0AAAAAElFTkSuQmCC\"></div><div style=\"vertical-align: middle; max-width: 514px; display: flex; justify-content: space-between;\"><div style=\"float: left;\"><div title=\"#00ffffff\" style=\"display: inline-block; width: 1em; height: 1em; margin: 0; vertical-align: middle; border: 1px solid #555; background-color: #00ffffff;\"></div> under</div><div style=\"margin: 0 auto; display: inline-block;\">bad <div title=\"#ff0000ff\" style=\"display: inline-block; width: 1em; height: 1em; margin: 0; vertical-align: middle; border: 1px solid #555; background-color: #ff0000ff;\"></div></div><div style=\"float: right;\">over <div title=\"#ffffffff\" style=\"display: inline-block; width: 1em; height: 1em; margin: 0; vertical-align: middle; border: 1px solid #555; background-color: #ffffffff;\"></div></div></div>"
      ],
      "text/plain": [
       "<matplotlib.colors.ListedColormap at 0x7150007f4050>"
      ]
     },
     "execution_count": 4,
     "metadata": {},
     "output_type": "execute_result"
    }
   ],
   "source": [
    "viridis_mod = cm.get_cmap('viridis')\n",
    "\n",
    "viridis_mod.set_under(color='cyan')\n",
    "viridis_mod.set_bad(color='red')\n",
    "viridis_mod.set_over(color='white')\n",
    "viridis_mod"
   ]
  },
  {
   "cell_type": "code",
   "execution_count": 5,
   "metadata": {},
   "outputs": [
    {
     "data": {
      "text/plain": [
       "<matplotlib.colorbar.Colorbar at 0x714fffd99e80>"
      ]
     },
     "execution_count": 5,
     "metadata": {},
     "output_type": "execute_result"
    },
    {
     "data": {
      "image/png": "[encoded data removed]",
      "text/plain": [
       "<Figure size 640x480 with 2 Axes>"
      ]
     },
     "metadata": {},
     "output_type": "display_data"
    }
   ],
   "source": [
    "import matplotlib.pyplot as plt\n",
    "\n",
    "# Make some Gaussian noise.\n",
    "data = np.random.randn(30, 30)\n",
    "\n",
    "# Add some 'bad' pixels.\n",
    "data[2, -10:] = np.nan\n",
    "\n",
    "# Plot with modified colormap.\n",
    "plt.imshow(data, cmap=viridis_mod, vmin=-2, vmax=2)\n",
    "plt.colorbar(extend='both')"
   ]
  },
  {
   "cell_type": "markdown",
   "metadata": {},
   "source": [
    "## Modify viridis\n",
    "\n",
    "I want to add a band of pink to the viridis colormap, to highlight some range of values. I'll do it in three steps:\n",
    "\n",
    "1. Get the colours for viridis as an array.\n",
    "2. Modify the array.\n",
    "3. Save the array as a colourmap."
   ]
  },
  {
   "cell_type": "code",
   "execution_count": 11,
   "metadata": {},
   "outputs": [
    {
     "data": {
      "image/png": "[encoded data removed]",
      "text/html": [
       "<div style=\"vertical-align: middle;\"><strong>from_list</strong> </div><div class=\"cmap\"><img alt=\"from_list colormap\" title=\"from_list\" style=\"border: 1px solid #555;\" src=\"data:image/png;base64,iVBORw0KGgoAAAANSUhEUgAAAgAAAABACAYAAABsv8+/AAAAGHRFWHRUaXRsZQBmcm9tX2xpc3QgY29sb3JtYXBDL89FAAAAHnRFWHREZXNjcmlwdGlvbgBmcm9tX2xpc3QgY29sb3JtYXABtCnOAAAAMXRFWHRBdXRob3IATWF0cGxvdGxpYiB2My4xMC4zLCBodHRwczovL21hdHBsb3RsaWIub3Jnhnp4VQAAADN0RVh0U29mdHdhcmUATWF0cGxvdGxpYiB2My4xMC4zLCBodHRwczovL21hdHBsb3RsaWIub3JnI15roQAAAi5JREFUeJzt1sGtnDAUhtFrkNJKGkkJKSgdpLn0kl3I4nkY2cBj3lOkLP5zNsjmYtAsRl/71r5vVVXVWr1dl34Z19XX7TG39P1p/bx//vz8nsO5V+cfzj2/bjf3r57f9vv1yfs1nL/Ptzqfm86b54/r+fyrc2t6bjpnubl/eP7999yvXz3/fP3Z9/zr82/n6v251/e3Dz3/6+eX+h++/vg9fEcdfoft/P7NfruYa4f19FzNc9Pf2uX6Zr+fuxzmt75f03q+f37O1dx+rZv709zS/rw4N86vH74/vmet8/fO++vjubpZP947ve+4Pv+O57nj9z/nx/OO89P7rvan77j63rXm32X8PdfDfvX9Gtf7fpv2+7rv7+s+8Zxf+rXPtWU4BwAIIgAAIJAAAIBAAgAAAgkAAAgkAAAgkAAAgEACAAACCQAACCQAACCQAACAQAIAAAIJAAAIJAAAIJAAAIBAAgAAAgkAAAgkAAAgkAAAgEACAAACCQAACCQAACCQAACAQAIAAAIJAAAIJAAAIJAAAIBAAgAAAgkAAAgkAAAgkAAAgEACAAACCQAACCQAACCQAACAQAIAAAIJAAAIJAAAIJAAAIBAAgAAAgkAAAgkAAAgkAAAgEACAAACCQAACCQAACCQAACAQAIAAAIJAAAIJAAAIJAAAIBAAgAAAgkAAAgkAAAgkAAAgEACAAACCQAACCQAACCQAACAQAIAAAIJAAAIJAAAIJAAAIBAfwHBBoSHeoKCtgAAAABJRU5ErkJggg==\"></div><div style=\"vertical-align: middle; max-width: 514px; display: flex; justify-content: space-between;\"><div style=\"float: left;\"><div title=\"#440154ff\" style=\"display: inline-block; width: 1em; height: 1em; margin: 0; vertical-align: middle; border: 1px solid #555; background-color: #440154ff;\"></div> under</div><div style=\"margin: 0 auto; display: inline-block;\">bad <div title=\"#00000000\" style=\"display: inline-block; width: 1em; height: 1em; margin: 0; vertical-align: middle; border: 1px solid #555; background-color: #00000000;\"></div></div><div style=\"float: right;\">over <div title=\"#fde725ff\" style=\"display: inline-block; width: 1em; height: 1em; margin: 0; vertical-align: middle; border: 1px solid #555; background-color: #fde725ff;\"></div></div></div>"
      ],
      "text/plain": [
       "<matplotlib.colors.ListedColormap at 0x714ffbc687d0>"
      ]
     },
     "execution_count": 11,
     "metadata": {},
     "output_type": "execute_result"
    }
   ],
   "source": [
    "colours = viridis(np.linspace(0, 1, 256))\n",
    "\n",
    "pink = np.array([248/256, 24/256, 148/256, 1])\n",
    "colours[120:135, :] = pink\n",
    "\n",
    "viridis_band = ListedColormap(colours)\n",
    "viridis_band"
   ]
  },
  {
   "cell_type": "markdown",
   "metadata": {},
   "source": [
    "Now we can try it out!"
   ]
  },
  {
   "cell_type": "code",
   "execution_count": 12,
   "metadata": {},
   "outputs": [
    {
     "data": {
      "image/png": "[encoded data removed]",
      "text/plain": [
       "<Figure size 800x300 with 4 Axes>"
      ]
     },
     "metadata": {},
     "output_type": "display_data"
    }
   ],
   "source": [
    "cms = [viridis, viridis_band]\n",
    "\n",
    "data = np.random.randn(30, 30)\n",
    "\n",
    "fig, axs = plt.subplots(ncols=2, figsize=(8, 3))\n",
    "for ax, cmap in zip(axs, cms):\n",
    "    im = ax.imshow(data, cmap=cmap, vmin=-3, vmax=3)\n",
    "    cb = fig.colorbar(im)\n",
    "plt.show()"
   ]
  },
  {
   "cell_type": "markdown",
   "metadata": {},
   "source": [
    "## Make a new ramp as `LinearSegmentedColormap`\n",
    "\n",
    "We can also make a new colourmap from scratch."
   ]
  },
  {
   "cell_type": "code",
   "execution_count": 28,
   "metadata": {},
   "outputs": [
    {
     "data": {
      "image/png": "[encoded data removed]",
      "text/html": [
       "<div style=\"vertical-align: middle;\"><strong>red_blue</strong> </div><div class=\"cmap\"><img alt=\"red_blue colormap\" title=\"red_blue\" style=\"border: 1px solid #555;\" src=\"data:image/png;base64,iVBORw0KGgoAAAANSUhEUgAAAgAAAABACAYAAABsv8+/AAAAF3RFWHRUaXRsZQByZWRfYmx1ZSBjb2xvcm1hcJG6mP0AAAAddEVYdERlc2NyaXB0aW9uAHJlZF9ibHVlIGNvbG9ybWFwuMR/1AAAADF0RVh0QXV0aG9yAE1hdHBsb3RsaWIgdjMuMTAuMywgaHR0cHM6Ly9tYXRwbG90bGliLm9yZ4Z6eFUAAAAzdEVYdFNvZnR3YXJlAE1hdHBsb3RsaWIgdjMuMTAuMywgaHR0cHM6Ly9tYXRwbG90bGliLm9yZyNea6EAAAHQSURBVHic7dZBbsIwAABBB57a/z8B0kNTqkLBkFa97MwlAjtObCG0y9sY6xhjLIfDGGOMw3ZdJtfZvL9a59+etywf48fjw/FlG79Z58Xxm/e5M36Z98vx6f6eXee35zhbZ3ZOs3Vm5zRbJ7b/T+fzul3PH9d1/f799efpvPPj+1+cd9rmrTvf57R9Xne+9+X+Z9/76jm397923pf97zzH03q1/53PmZ3j7Dmzc/y6/+f9zc7x/v3P7u/x7+zp/U3PZ9/vZPf53Nnf938BACBBAABAkAAAgCABAABBAgAAggQAAAQJAAAIEgAAECQAACBIAABAkAAAgCABAABBAgAAggQAAAQJAAAIEgAAECQAACBIAABAkAAAgCABAABBAgAAggQAAAQJAAAIEgAAECQAACBIAABAkAAAgCABAABBAgAAggQAAAQJAAAIEgAAECQAACBIAABAkAAAgCABAABBAgAAggQAAAQJAAAIEgAAECQAACBIAABAkAAAgCABAABBAgAAggQAAAQJAAAIEgAAECQAACBIAABAkAAAgCABAABBAgAAggQAAAQJAAAIEgAAECQAACBIAABAkAAAgCABAABBAgAAggQAAAQJAAAIegdJPX8iSX4o1gAAAABJRU5ErkJggg==\"></div><div style=\"vertical-align: middle; max-width: 514px; display: flex; justify-content: space-between;\"><div style=\"float: left;\"><div title=\"#640000ff\" style=\"display: inline-block; width: 1em; height: 1em; margin: 0; vertical-align: middle; border: 1px solid #555; background-color: #640000ff;\"></div> under</div><div style=\"margin: 0 auto; display: inline-block;\">bad <div title=\"#00000000\" style=\"display: inline-block; width: 1em; height: 1em; margin: 0; vertical-align: middle; border: 1px solid #555; background-color: #00000000;\"></div></div><div style=\"float: right;\">over <div title=\"#003264ff\" style=\"display: inline-block; width: 1em; height: 1em; margin: 0; vertical-align: middle; border: 1px solid #555; background-color: #003264ff;\"></div></div></div>"
      ],
      "text/plain": [
       "<matplotlib.colors.LinearSegmentedColormap at 0x714ffa853ad0>"
      ]
     },
     "execution_count": 28,
     "metadata": {},
     "output_type": "execute_result"
    }
   ],
   "source": [
    "# Channel:  RED    GREEN     BLUE  ALPHA\n",
    "red =   [100/256,   0/256,   0/256, 1.0]\n",
    "white = [256/256, 256/256, 256/256, 1.0]\n",
    "blue =  [  0/256,  50/256, 100/256, 1.0]\n",
    "\n",
    "red_blue = LinearSegmentedColormap.from_list(\"red_blue\", [red, white, blue])\n",
    "red_blue"
   ]
  },
  {
   "cell_type": "code",
   "execution_count": 27,
   "metadata": {},
   "outputs": [
    {
     "data": {
      "image/png": "[encoded data removed]",
      "text/plain": [
       "<Figure size 800x300 with 4 Axes>"
      ]
     },
     "metadata": {},
     "output_type": "display_data"
    }
   ],
   "source": [
    "cms = [viridis, red_blue]\n",
    "\n",
    "data = np.random.randn(30, 30)\n",
    "\n",
    "fig, axs = plt.subplots(1, 2, figsize=(8, 3))\n",
    "for ax, cmap in zip(axs, cms):\n",
    "    im = ax.pcolormesh(data, cmap=cmap, rasterized=True, vmin=-4, vmax=4)\n",
    "    fig.colorbar(im)\n",
    "plt.show()"
   ]
  },
  {
   "cell_type": "markdown",
   "metadata": {},
   "source": [
    "Look up colours in a `LinearSegmentedColormap`..."
   ]
  },
  {
   "cell_type": "code",
   "execution_count": 19,
   "metadata": {},
   "outputs": [
    {
     "data": {
      "text/plain": [
       "(np.float64(0.996078431372549),\n",
       " np.float64(0.996844362745098),\n",
       " np.float64(0.997610294117647),\n",
       " np.float64(1.0))"
      ]
     },
     "execution_count": 19,
     "metadata": {},
     "output_type": "execute_result"
    }
   ],
   "source": [
    "red_blue(0.5)"
   ]
  },
  {
   "cell_type": "markdown",
   "metadata": {},
   "source": [
    "## Extract colours from an image\n",
    "\n",
    "If you have an image, you can try to recover a colourmap from it with my [`unmap`](https://scienxlab.org/unmap/readme.html) library.\n",
    "\n",
    "If you have an image of a colourmap, eg cropped from a visualization, you can probably grab a 1D array of pixels from it then do something like (where `...` represents the indexing you need to get an array of pixels).\n",
    "\n",
    "    LinearSegmentedColormap.from_list(\"my_cmap\", arr[...])"
   ]
  },
  {
   "cell_type": "markdown",
   "metadata": {},
   "source": [
    "## Save as QGIS format\n",
    "\n",
    "You can save a `matplotlib` colormap in a format QGIS using the code in [this gist](https://gist.github.com/kwinkunks/75c376a8299c4d66b28f91b8989ab190)."
   ]
  },
  {
   "cell_type": "markdown",
   "metadata": {},
   "source": [
    "<hr />\n",
    "\n",
    "© 2025 Matt Hall, licensed CC BY"
   ]
  }
 ],
 "metadata": {
  "author": "Matt Hall",
  "authors": [
   {
    "email": "kwinkunks@gmail.com",
    "github": "kwinkunks",
    "name": "Matt Hall",
    "orcid": "0000-0002-4054-8295"
   }
  ],
  "email": "kwinkunks@gmail.com",
  "github": "kwinkunks",
  "kernelspec": {
   "display_name": "Python 3 (ipykernel)",
   "language": "python",
   "name": "python3"
  },
  "language_info": {
   "codemirror_mode": {
    "name": "ipython",
    "version": 3
   },
   "file_extension": ".py",
   "mimetype": "text/x-python",
   "name": "python",
   "nbconvert_exporter": "python",
   "pygments_lexer": "ipython3",
   "version": "3.13.5"
  },
  "license": {
   "code": "MIT",
   "text": "CC BY"
  },
  "orcid": "0000-0002-4054-8295",
  "tags": [
   "python",
   "color",
   "visualization"
  ]
 },
 "nbformat": 4,
 "nbformat_minor": 4
}
